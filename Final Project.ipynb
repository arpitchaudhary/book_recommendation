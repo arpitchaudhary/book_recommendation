{
 "cells": [
  {
   "cell_type": "markdown",
   "metadata": {},
   "source": [
    "# Book Recommender System\n",
    "\n",
    "Author: Arpit Chaudhary, Arvind Narayanamurthy, Rituparna Jawahar"
   ]
  },
  {
   "cell_type": "markdown",
   "metadata": {},
   "source": [
    "## Introduction\n",
    "\n",
    "This project is an implementation of a recommender system that suggests books to a user based on the books that he/she liked. Matrix factorization based model is used to predict user ratings of all the books in the database for the particular user. Based on these predicted ratings a book is recommended to the user that we predict he would rate the highest.\n",
    "\n",
    "## Use Cases\n",
    "\n",
    "1. Libraries have thousands of books. Users are aware of a very small subset of all the available books. A recommender system used in the context of a library will expose readers to a wider array of books by recommending a new book based on the books they have liked in the past.\n",
    "\n",
    "2. A recommender system can be can be used in any context, from movies to products by changing the data fed to the system. All e-commerce sites need a recommender system to stay competitive. \n",
    "\n",
    "\n",
    "## Data Source\n",
    "\n",
    "We scraped information about top selling books on Amazon.com and associated user reviews. Information extracted from amazon.com includes:\n",
    "\n",
    "- Book Information\n",
    "    - Book Name :  Name of the book\n",
    "    - ISBN.10 : Unique book identifier\n",
    "    - ISBN.13 : Unique book identifier\n",
    "    - Language : Language of the book\n",
    "    - author : Comma seperated author names\n",
    "    - image_url : URL for the book's cover image on amazon.com\n",
    "    - review_url : URL for reviews of the book on amazon.com\n",
    "    - url : Url of the Book on Amazon\n",
    "- User Reviews\n",
    "    - book_id : ISBN-10 of the book reviewed\n",
    "    - rating : User rating for the book\n",
    "    - user_link : User Profile link (Used as a key to identify users uniquely)\n",
    "    - user_name : Name of the user\n",
    "    \n",
    "In total, we extracted 205,910 total reviews for 236 unique books.\n",
    "\n",
    "### Data Collection Methodology\n",
    "\n",
    "- We extracted the top bestselling books on amazon.com and scraped the above mentioned information about each of these books.\n",
    "- With the book information extracted, we went ahead and scraped user reviews for all these books chunk by chunk.\n",
    "- We merged all these chunks of user reviews into a big dataset to be used to train our recommender system."
   ]
  },
  {
   "cell_type": "markdown",
   "metadata": {},
   "source": [
    "## Scripts used for scraping"
   ]
  },
  {
   "cell_type": "markdown",
   "metadata": {},
   "source": [
    "The scripts that we wrote for scraping can be found at:\n",
    "https://github.com/arpitchaudhary/book_recommendation/tree/master/Scraping%20scripts"
   ]
  },
  {
   "cell_type": "markdown",
   "metadata": {},
   "source": [
    "## Learning a model"
   ]
  },
  {
   "cell_type": "markdown",
   "metadata": {},
   "source": [
    "#### Importing required libraries"
   ]
  },
  {
   "cell_type": "code",
   "execution_count": 1,
   "metadata": {},
   "outputs": [],
   "source": [
    "import pandas as pd\n",
    "import numpy as np\n",
    "import scipy.sparse as sp\n",
    "import scipy.linalg as la\n",
    "from scipy.sparse.linalg import svds\n",
    "import matplotlib\n",
    "matplotlib.use(\"svg\")\n",
    "%matplotlib inline\n",
    "import matplotlib.pyplot as plt\n",
    "plt.style.use(\"ggplot\")"
   ]
  },
  {
   "cell_type": "markdown",
   "metadata": {},
   "source": [
    "#### Setting the seed"
   ]
  },
  {
   "cell_type": "markdown",
   "metadata": {},
   "source": [
    "To obtain reproducible results."
   ]
  },
  {
   "cell_type": "code",
   "execution_count": 2,
   "metadata": {},
   "outputs": [],
   "source": [
    "import random\n",
    "random.seed(23456)\n",
    "np.random.seed(23456)"
   ]
  },
  {
   "cell_type": "markdown",
   "metadata": {},
   "source": [
    "## Read Data"
   ]
  },
  {
   "cell_type": "code",
   "execution_count": 3,
   "metadata": {},
   "outputs": [],
   "source": [
    "books = pd.read_csv(\"book_data_v3.csv\")\n",
    "book_revs = pd.read_csv(\"reviews_v6.csv\")"
   ]
  },
  {
   "cell_type": "code",
   "execution_count": 4,
   "metadata": {},
   "outputs": [
    {
     "data": {
      "text/html": [
       "<div>\n",
       "<style scoped>\n",
       "    .dataframe tbody tr th:only-of-type {\n",
       "        vertical-align: middle;\n",
       "    }\n",
       "\n",
       "    .dataframe tbody tr th {\n",
       "        vertical-align: top;\n",
       "    }\n",
       "\n",
       "    .dataframe thead th {\n",
       "        text-align: right;\n",
       "    }\n",
       "</style>\n",
       "<table border=\"1\" class=\"dataframe\">\n",
       "  <thead>\n",
       "    <tr style=\"text-align: right;\">\n",
       "      <th></th>\n",
       "      <th>ISBN.10</th>\n",
       "      <th>ISBN.13</th>\n",
       "      <th>Language</th>\n",
       "      <th>author</th>\n",
       "      <th>image_url</th>\n",
       "      <th>name</th>\n",
       "      <th>review_url</th>\n",
       "      <th>url</th>\n",
       "    </tr>\n",
       "  </thead>\n",
       "  <tbody>\n",
       "    <tr>\n",
       "      <th>0</th>\n",
       "      <td>1911015486</td>\n",
       "      <td>978-1911015482</td>\n",
       "      <td>english</td>\n",
       "      <td>Piggyback</td>\n",
       "      <td>https://images-na.ssl-images-amazon.com/images...</td>\n",
       "      <td>The Legend of Zelda: Breath of the Wild The Co...</td>\n",
       "      <td>https://www.amazon.com/Legend-Zelda-Complete-O...</td>\n",
       "      <td>https://www.amazon.com/Legend-Zelda-Complete-O...</td>\n",
       "    </tr>\n",
       "    <tr>\n",
       "      <th>1</th>\n",
       "      <td>078696619X</td>\n",
       "      <td>978-0786966196</td>\n",
       "      <td>english</td>\n",
       "      <td>Wizards RPG Team</td>\n",
       "      <td>https://images-na.ssl-images-amazon.com/images...</td>\n",
       "      <td>Dungeon Master's Screen Reincarnated</td>\n",
       "      <td>https://www.amazon.com/Dungeon-Masters-Screen-...</td>\n",
       "      <td>https://www.amazon.com/Dungeon-Masters-Screen-...</td>\n",
       "    </tr>\n",
       "    <tr>\n",
       "      <th>2</th>\n",
       "      <td>62433970</td>\n",
       "      <td>978-0062433978</td>\n",
       "      <td>english</td>\n",
       "      <td>Christopher Moore</td>\n",
       "      <td>https://images-na.ssl-images-amazon.com/images...</td>\n",
       "      <td>Noir: A Novel</td>\n",
       "      <td>https://www.amazon.com/Noir-Novel-Christopher-...</td>\n",
       "      <td>https://www.amazon.com/Noir-Novel-Christopher-...</td>\n",
       "    </tr>\n",
       "    <tr>\n",
       "      <th>3</th>\n",
       "      <td>345535529</td>\n",
       "      <td>978-0345535528</td>\n",
       "      <td>english</td>\n",
       "      <td>George R. R. Martin</td>\n",
       "      <td>https://images-na.ssl-images-amazon.com/images...</td>\n",
       "      <td>A Game of Thrones / A Clash of Kings / A Storm...</td>\n",
       "      <td>https://www.amazon.com/Thrones-Clash-Kings-Swo...</td>\n",
       "      <td>https://www.amazon.com/Thrones-Clash-Kings-Swo...</td>\n",
       "    </tr>\n",
       "    <tr>\n",
       "      <th>4</th>\n",
       "      <td>525622136</td>\n",
       "      <td>978-0525622130</td>\n",
       "      <td>english</td>\n",
       "      <td>Daniel José Older</td>\n",
       "      <td>https://images-na.ssl-images-amazon.com/images...</td>\n",
       "      <td>Last Shot (Star Wars): A Han and Lando Novel</td>\n",
       "      <td>https://www.amazon.com/Last-Shot-Star-Wars-Lan...</td>\n",
       "      <td>https://www.amazon.com/Last-Shot-Star-Wars-Lan...</td>\n",
       "    </tr>\n",
       "  </tbody>\n",
       "</table>\n",
       "</div>"
      ],
      "text/plain": [
       "      ISBN.10         ISBN.13 Language               author  \\\n",
       "0  1911015486  978-1911015482  english            Piggyback   \n",
       "1  078696619X  978-0786966196  english     Wizards RPG Team   \n",
       "2    62433970  978-0062433978  english    Christopher Moore   \n",
       "3   345535529  978-0345535528  english  George R. R. Martin   \n",
       "4   525622136  978-0525622130  english    Daniel José Older   \n",
       "\n",
       "                                           image_url  \\\n",
       "0  https://images-na.ssl-images-amazon.com/images...   \n",
       "1  https://images-na.ssl-images-amazon.com/images...   \n",
       "2  https://images-na.ssl-images-amazon.com/images...   \n",
       "3  https://images-na.ssl-images-amazon.com/images...   \n",
       "4  https://images-na.ssl-images-amazon.com/images...   \n",
       "\n",
       "                                                name  \\\n",
       "0  The Legend of Zelda: Breath of the Wild The Co...   \n",
       "1               Dungeon Master's Screen Reincarnated   \n",
       "2                                      Noir: A Novel   \n",
       "3  A Game of Thrones / A Clash of Kings / A Storm...   \n",
       "4       Last Shot (Star Wars): A Han and Lando Novel   \n",
       "\n",
       "                                          review_url  \\\n",
       "0  https://www.amazon.com/Legend-Zelda-Complete-O...   \n",
       "1  https://www.amazon.com/Dungeon-Masters-Screen-...   \n",
       "2  https://www.amazon.com/Noir-Novel-Christopher-...   \n",
       "3  https://www.amazon.com/Thrones-Clash-Kings-Swo...   \n",
       "4  https://www.amazon.com/Last-Shot-Star-Wars-Lan...   \n",
       "\n",
       "                                                 url  \n",
       "0  https://www.amazon.com/Legend-Zelda-Complete-O...  \n",
       "1  https://www.amazon.com/Dungeon-Masters-Screen-...  \n",
       "2  https://www.amazon.com/Noir-Novel-Christopher-...  \n",
       "3  https://www.amazon.com/Thrones-Clash-Kings-Swo...  \n",
       "4  https://www.amazon.com/Last-Shot-Star-Wars-Lan...  "
      ]
     },
     "execution_count": 4,
     "metadata": {},
     "output_type": "execute_result"
    }
   ],
   "source": [
    "books.head()"
   ]
  },
  {
   "cell_type": "code",
   "execution_count": 5,
   "metadata": {},
   "outputs": [
    {
     "data": {
      "text/html": [
       "<div>\n",
       "<style scoped>\n",
       "    .dataframe tbody tr th:only-of-type {\n",
       "        vertical-align: middle;\n",
       "    }\n",
       "\n",
       "    .dataframe tbody tr th {\n",
       "        vertical-align: top;\n",
       "    }\n",
       "\n",
       "    .dataframe thead th {\n",
       "        text-align: right;\n",
       "    }\n",
       "</style>\n",
       "<table border=\"1\" class=\"dataframe\">\n",
       "  <thead>\n",
       "    <tr style=\"text-align: right;\">\n",
       "      <th></th>\n",
       "      <th>rating</th>\n",
       "      <th>user_link</th>\n",
       "      <th>user_name</th>\n",
       "      <th>book_id</th>\n",
       "    </tr>\n",
       "  </thead>\n",
       "  <tbody>\n",
       "    <tr>\n",
       "      <th>0</th>\n",
       "      <td>5</td>\n",
       "      <td>/gp/profile/amzn1.account.AHVQ2I7NIIICSGLMITUH...</td>\n",
       "      <td>Laurel</td>\n",
       "      <td>316769495</td>\n",
       "    </tr>\n",
       "    <tr>\n",
       "      <th>1</th>\n",
       "      <td>5</td>\n",
       "      <td>/gp/profile/amzn1.account.AFLBOK7ROK6O36BXI2XX...</td>\n",
       "      <td>Thomas Truthsayer</td>\n",
       "      <td>316769495</td>\n",
       "    </tr>\n",
       "    <tr>\n",
       "      <th>2</th>\n",
       "      <td>4</td>\n",
       "      <td>/gp/profile/amzn1.account.AFVFVS25QJVCFIMPGL44...</td>\n",
       "      <td>Amazon Customer</td>\n",
       "      <td>316769495</td>\n",
       "    </tr>\n",
       "    <tr>\n",
       "      <th>3</th>\n",
       "      <td>5</td>\n",
       "      <td>/gp/profile/amzn1.account.AGECMZA77X4ECMFL4L6Z...</td>\n",
       "      <td>Starlifter</td>\n",
       "      <td>316769495</td>\n",
       "    </tr>\n",
       "    <tr>\n",
       "      <th>4</th>\n",
       "      <td>5</td>\n",
       "      <td>/gp/profile/amzn1.account.AE5DLBCV4FX72KSZDOFE...</td>\n",
       "      <td>Mr.Punch</td>\n",
       "      <td>316769495</td>\n",
       "    </tr>\n",
       "  </tbody>\n",
       "</table>\n",
       "</div>"
      ],
      "text/plain": [
       "   rating                                          user_link  \\\n",
       "0       5  /gp/profile/amzn1.account.AHVQ2I7NIIICSGLMITUH...   \n",
       "1       5  /gp/profile/amzn1.account.AFLBOK7ROK6O36BXI2XX...   \n",
       "2       4  /gp/profile/amzn1.account.AFVFVS25QJVCFIMPGL44...   \n",
       "3       5  /gp/profile/amzn1.account.AGECMZA77X4ECMFL4L6Z...   \n",
       "4       5  /gp/profile/amzn1.account.AE5DLBCV4FX72KSZDOFE...   \n",
       "\n",
       "           user_name    book_id  \n",
       "0             Laurel  316769495  \n",
       "1  Thomas Truthsayer  316769495  \n",
       "2    Amazon Customer  316769495  \n",
       "3         Starlifter  316769495  \n",
       "4           Mr.Punch  316769495  "
      ]
     },
     "execution_count": 5,
     "metadata": {},
     "output_type": "execute_result"
    }
   ],
   "source": [
    "book_revs.head()"
   ]
  },
  {
   "cell_type": "markdown",
   "metadata": {},
   "source": [
    "## Processing Data"
   ]
  },
  {
   "cell_type": "markdown",
   "metadata": {},
   "source": [
    "### Deleting Unsuable Reviews"
   ]
  },
  {
   "cell_type": "markdown",
   "metadata": {},
   "source": [
    "User-user and item-item based collaborative filtering required user reviews that had an associated valid user. In some cases, reviews were left ananymously or by a deleted user account, these were not used. "
   ]
  },
  {
   "cell_type": "code",
   "execution_count": 6,
   "metadata": {},
   "outputs": [],
   "source": [
    "book_revs = book_revs.dropna(how ='any')"
   ]
  },
  {
   "cell_type": "markdown",
   "metadata": {},
   "source": [
    "### Generating User IDs"
   ]
  },
  {
   "cell_type": "markdown",
   "metadata": {},
   "source": [
    "The 'user_link' column could have been used as the key to uniquely identify each user but is not very human readable. We created a more readable numerical id which consist of integers that can be directly used as row numbers in our feature matrix."
   ]
  },
  {
   "cell_type": "code",
   "execution_count": 7,
   "metadata": {},
   "outputs": [
    {
     "data": {
      "text/html": [
       "<div>\n",
       "<style scoped>\n",
       "    .dataframe tbody tr th:only-of-type {\n",
       "        vertical-align: middle;\n",
       "    }\n",
       "\n",
       "    .dataframe tbody tr th {\n",
       "        vertical-align: top;\n",
       "    }\n",
       "\n",
       "    .dataframe thead th {\n",
       "        text-align: right;\n",
       "    }\n",
       "</style>\n",
       "<table border=\"1\" class=\"dataframe\">\n",
       "  <thead>\n",
       "    <tr style=\"text-align: right;\">\n",
       "      <th></th>\n",
       "      <th>rating</th>\n",
       "      <th>user_link</th>\n",
       "      <th>user_name</th>\n",
       "      <th>book_id</th>\n",
       "      <th>user_id</th>\n",
       "    </tr>\n",
       "  </thead>\n",
       "  <tbody>\n",
       "    <tr>\n",
       "      <th>0</th>\n",
       "      <td>5</td>\n",
       "      <td>/gp/profile/amzn1.account.AHVQ2I7NIIICSGLMITUH...</td>\n",
       "      <td>Laurel</td>\n",
       "      <td>316769495</td>\n",
       "      <td>32236</td>\n",
       "    </tr>\n",
       "    <tr>\n",
       "      <th>1</th>\n",
       "      <td>5</td>\n",
       "      <td>/gp/profile/amzn1.account.AFLBOK7ROK6O36BXI2XX...</td>\n",
       "      <td>Thomas Truthsayer</td>\n",
       "      <td>316769495</td>\n",
       "      <td>130373</td>\n",
       "    </tr>\n",
       "    <tr>\n",
       "      <th>2</th>\n",
       "      <td>4</td>\n",
       "      <td>/gp/profile/amzn1.account.AFVFVS25QJVCFIMPGL44...</td>\n",
       "      <td>Amazon Customer</td>\n",
       "      <td>316769495</td>\n",
       "      <td>165982</td>\n",
       "    </tr>\n",
       "    <tr>\n",
       "      <th>3</th>\n",
       "      <td>5</td>\n",
       "      <td>/gp/profile/amzn1.account.AGECMZA77X4ECMFL4L6Z...</td>\n",
       "      <td>Starlifter</td>\n",
       "      <td>316769495</td>\n",
       "      <td>155343</td>\n",
       "    </tr>\n",
       "    <tr>\n",
       "      <th>4</th>\n",
       "      <td>5</td>\n",
       "      <td>/gp/profile/amzn1.account.AE5DLBCV4FX72KSZDOFE...</td>\n",
       "      <td>Mr.Punch</td>\n",
       "      <td>316769495</td>\n",
       "      <td>138278</td>\n",
       "    </tr>\n",
       "  </tbody>\n",
       "</table>\n",
       "</div>"
      ],
      "text/plain": [
       "   rating                                          user_link  \\\n",
       "0       5  /gp/profile/amzn1.account.AHVQ2I7NIIICSGLMITUH...   \n",
       "1       5  /gp/profile/amzn1.account.AFLBOK7ROK6O36BXI2XX...   \n",
       "2       4  /gp/profile/amzn1.account.AFVFVS25QJVCFIMPGL44...   \n",
       "3       5  /gp/profile/amzn1.account.AGECMZA77X4ECMFL4L6Z...   \n",
       "4       5  /gp/profile/amzn1.account.AE5DLBCV4FX72KSZDOFE...   \n",
       "\n",
       "           user_name    book_id  user_id  \n",
       "0             Laurel  316769495    32236  \n",
       "1  Thomas Truthsayer  316769495   130373  \n",
       "2    Amazon Customer  316769495   165982  \n",
       "3         Starlifter  316769495   155343  \n",
       "4           Mr.Punch  316769495   138278  "
      ]
     },
     "execution_count": 7,
     "metadata": {},
     "output_type": "execute_result"
    }
   ],
   "source": [
    "user_links = set(book_revs['user_link'])\n",
    "userId_map = dict(zip(user_links, range(len(user_links))))\n",
    "book_revs['user_id'] = book_revs['user_link'].apply(lambda x: userId_map.get(x))\n",
    "book_revs.head()"
   ]
  },
  {
   "cell_type": "markdown",
   "metadata": {},
   "source": [
    "### Exploratory Data Analysis\n",
    "\n"
   ]
  },
  {
   "cell_type": "markdown",
   "metadata": {},
   "source": [
    " #### Rating Distribution\n",
    " \n",
    "The graph of the distribution of ratings shows us that most books in our dataset were highly rated. This is attributed to the fact that our dataset predominantly consists of bestselling books. The model trained on this datatset is biased towards higher ratings as most of the books are highly rated.  \n",
    "\n",
    "Expanding our dataset to include more books (not just bestsellers) would increase the accuracy. The number of books with lower rating would level out the distribution. As a result, the bias would reduce and the model would make better recommendations."
   ]
  },
  {
   "cell_type": "code",
   "execution_count": 9,
   "metadata": {},
   "outputs": [
    {
     "data": {
      "text/plain": [
       "<matplotlib.axes._subplots.AxesSubplot at 0x214cf213320>"
      ]
     },
     "execution_count": 9,
     "metadata": {},
     "output_type": "execute_result"
    },
    {
     "data": {
      "image/png": "[encoded data removed]",
      "text/plain": [
       "<matplotlib.figure.Figure at 0x214cf1b5748>"
      ]
     },
     "metadata": {},
     "output_type": "display_data"
    }
   ],
   "source": [
    "book_revs.plot(y='rating', kind = 'hist')"
   ]
  },
  {
   "cell_type": "markdown",
   "metadata": {},
   "source": [
    "#### Unique Users and Books"
   ]
  },
  {
   "cell_type": "code",
   "execution_count": 11,
   "metadata": {},
   "outputs": [
    {
     "name": "stdout",
     "output_type": "stream",
     "text": [
      "Total unique books: 236\n",
      "Total unique users:  181240\n"
     ]
    }
   ],
   "source": [
    "book_ID = book_revs['book_id'].unique()\n",
    "user_ID = book_revs['user_id'].unique()\n",
    "print('Total unique books:', len(book_ID))\n",
    "print('Total unique users: ', len(user_ID))"
   ]
  },
  {
   "cell_type": "markdown",
   "metadata": {},
   "source": [
    "### Creating Feature Matrices (Train, Validation and Test sets)\n",
    "\n",
    "To be be able to feed it to matrix factorization based model, the data needs to be present in matrix format of ratings for each user per book. For our implementation, each column represents a book and each row a user. Each cell in the matrix is the rating (1-5), for the specific book by the specific user.\n",
    "\n",
    "We are using a validation set approach and so, we need to divide the data into 3 sets:\n",
    "- Train set\n",
    "- Validation set (For hyper-parameter tuning)\n",
    "- Test set (Testing the performance)\n",
    "\n",
    "NOTE: To tune the hyper-parameters model is trained on the training set and error is calculated over validation set. FOr training the final model train + validation sets are used for training and test is used to calculate the error."
   ]
  },
  {
   "cell_type": "code",
   "execution_count": 10,
   "metadata": {},
   "outputs": [
    {
     "name": "stdout",
     "output_type": "stream",
     "text": [
      "(181240, 236) (181240, 236) (181240, 236) (181240, 236) ['Franny and Zooey', 'A Wild Sheep Chase: A Novel', 'Dragons of Autumn Twilight (Dragonlance Chronicles, Volume I)', 'The Chosen: A Novel of the Black Dagger Brotherhood', 'Battlefront II: Inferno Squad (Star Wars)'] ['316769495', '037571894X', '786915749', '451475208', '1524796824']\n"
     ]
    }
   ],
   "source": [
    "import math\n",
    "def process(ratings, books, P):\n",
    "    \"\"\" Given a dataframe of ratings and a random permutation, split the data into a training \n",
    "        and a testing set, in matrix form. \n",
    "        \n",
    "        Args: \n",
    "            ratings (dataframe) : dataframe of ratings\n",
    "            books (dataframe) : dataframe of books\n",
    "            P (numpy 1D array) : random permutation vector\n",
    "            \n",
    "        Returns: \n",
    "            (X_tr, X_val, X_te, X_full_tr, bk_names, bk_id)  : training, validation, testing, and full_training splits of the ratings matrix (both \n",
    "                                         numpy 2D arrays), a python list of book names and book ids\n",
    "                                         corresponding to the columns of the ratings matrices. \n",
    "    \"\"\"\n",
    "    \n",
    "    bookID = ratings['book_id'].unique()\n",
    "    userID = ratings['user_id'].unique()\n",
    "    bks = books.set_index(['ISBN.10'])\n",
    "    \n",
    "    bk_names = list(bks.loc[bookID]['name'])\n",
    "    bk_id = list(bks.loc[bookID].index)\n",
    "    bk_dict = {mi:i for i,mi in enumerate(bookID)}\n",
    "    \n",
    "    X_tr = np.zeros((len(userID),len(bookID)))\n",
    "    X_val = np.zeros((len(userID),len(bookID)))\n",
    "    X_te = np.zeros((len(userID),len(bookID)))\n",
    "    X_full_tr = np.zeros((len(userID),len(bookID)))\n",
    "    \n",
    "    tr_size = math.floor(float(7*len(P))/10.0)\n",
    "    val_size = math.floor(float(2*len(P))/10.0)\n",
    "    tr_data = ratings.iloc[P[0:tr_size]]\n",
    "    val_data = ratings.iloc[P[tr_size:tr_size+val_size]]\n",
    "    te_data = ratings.iloc[P[tr_size+val_size:]]\n",
    "    full_tr_data = ratings.iloc[P[:tr_size+val_size]]\n",
    "    \n",
    "    for index, row in tr_data.iterrows():\n",
    "        X_tr[int(row['user_id']),bk_dict[row['book_id']]] = row['rating']\n",
    "        \n",
    "    for index, row in val_data.iterrows():\n",
    "        X_val[int(row['user_id']),bk_dict[row['book_id']]] = row['rating']\n",
    "        \n",
    "    for index, row in te_data.iterrows():\n",
    "        X_te[int(row['user_id']),bk_dict[row['book_id']]] = row['rating']\n",
    "    \n",
    "    for index, row in full_tr_data.iterrows():\n",
    "        X_full_tr[int(row['user_id']),bk_dict[row['book_id']]] = row['rating']\n",
    "\n",
    "    return X_tr, X_val, X_te, X_full_tr, bk_names, bk_id\n",
    "\n",
    "X_tr, X_val, X_te, X_full_tr, bNames, bIds = process(book_revs, books, np.random.permutation(len(book_revs)))\n",
    "print(X_tr.shape, X_val.shape, X_te.shape, X_full_tr.shape, bNames[:5], bIds[:5])\n",
    "\n",
    "# X_tr :  Training data set\n",
    "# X_val : Validation set\n",
    "# X_te : Test set\n",
    "# X_full_tr : Full training set (train + validation), used for final training of data after hyperparameter tuning."
   ]
  },
  {
   "cell_type": "markdown",
   "metadata": {},
   "source": [
    "## Error Calculation"
   ]
  },
  {
   "cell_type": "markdown",
   "metadata": {},
   "source": [
    "Developing a error calculation function which can be used to measure the performance of the model. We made sure to only calculate errors for non-zero ratings. Zero ratings mean that the user did not actually rate the book."
   ]
  },
  {
   "cell_type": "code",
   "execution_count": 12,
   "metadata": {},
   "outputs": [],
   "source": [
    "def error(X, X_hat):\n",
    "    \"\"\" Compute the mean error of the observed ratings in X and their estimated values. \n",
    "        Args: \n",
    "            X (numpy 2D array) : a ratings matrix as specified above\n",
    "            U (numpy 2D array) : a matrix of features for each user\n",
    "            V (numpy 2D array) : a matrix of features for each book\n",
    "        Returns: \n",
    "            (float) : the mean squared error of the observed ratings with their estimated values\n",
    "        \"\"\"\n",
    "    W = np.zeros(X.shape)\n",
    "    mask = X!=0\n",
    "    W[mask] = 1\n",
    "    err = np.square(X-X_hat*W)\n",
    "    return np.mean(err)"
   ]
  },
  {
   "cell_type": "markdown",
   "metadata": {},
   "source": [
    "### Collaborative Filtering\n",
    "\n",
    "Collaborative Filtering (CF) is a popular way to implement recommender system. Collaborative filtering considers user's past behavior to recommend new product (in our case - book) to the user.\n",
    "\n",
    "The key idea behind collaborative filtering is that similar users share the same interest and that similar items are liked by a user.\n",
    "\n",
    "Types of Collaborative filtering models:\n",
    "- Neighbourhood based (User-user or item-item based approach)\n",
    "- Matrix factorization based ( User - item based approach)\n",
    "\n",
    "We are using a Matrix factorization based approach for this project.\n",
    "\n",
    "Key idea behind matrix factorization is to approximate the rating matrix which includes the ratings which were not even present in the input training data."
   ]
  },
  {
   "cell_type": "markdown",
   "metadata": {},
   "source": [
    "### Training a benchmark model (SVD from scipy)\n",
    "\n",
    "#### What is SVD (singular-value decomposition)?\n",
    "Wiki: https://en.wikipedia.org/wiki/Singular-value_decomposition\n",
    "\n",
    "More info: http://genomicsclass.github.io/book/pages/svd.html\n",
    "\n",
    "SVD is a matric factorization based technique used for dimensionality reduction but can be used for collaborative filteriing as well. SVD is factorization of a given matrix (X) into product of three matrices:\n",
    "X = U @ S @ $V^{T}$\n",
    "\n",
    "After factorization, we are able to approximate a general pattern in X."
   ]
  },
  {
   "cell_type": "markdown",
   "metadata": {},
   "source": [
    "#### Hyper-parameter Tuning\n",
    "\n",
    "For SVD, we need to find the optimal value of k (the only hyper-parameter). We used the validation set approach to tune the hyper-parameter."
   ]
  },
  {
   "cell_type": "code",
   "execution_count": null,
   "metadata": {},
   "outputs": [],
   "source": [
    "err_svd =[]\n",
    "for k in range(1,100):\n",
    "    u, s, vt = svds(X_tr, k = k)\n",
    "    s_diag_matrix=np.diag(s)\n",
    "    X_pred = np.dot(np.dot(u, s_diag_matrix), vt)\n",
    "    err_svd.append({'k': k, 'Error': error(X_val, X_pred)})"
   ]
  },
  {
   "cell_type": "code",
   "execution_count": 14,
   "metadata": {},
   "outputs": [
    {
     "data": {
      "text/plain": [
       "<matplotlib.axes._subplots.AxesSubplot at 0x214d07fd3c8>"
      ]
     },
     "execution_count": 14,
     "metadata": {},
     "output_type": "execute_result"
    },
    {
     "data": {
      "image/png": "[encoded data removed]",
      "text/plain": [
       "<matplotlib.figure.Figure at 0x214d07eb320>"
      ]
     },
     "metadata": {},
     "output_type": "display_data"
    }
   ],
   "source": [
    "error_svd = pd.DataFrame(err_svd)\n",
    "error_svd.plot(x='k', y='Error', title='Validation set error (MSE)')"
   ]
  },
  {
   "cell_type": "markdown",
   "metadata": {},
   "source": [
    "As evident from the graph above, the error decreases till around k= 50 and then start to increase again. We hence select k = 50 as the optimal value of k.\n",
    "\n",
    "We used the full training(train + validation) set to train the final benchmark model."
   ]
  },
  {
   "cell_type": "code",
   "execution_count": 15,
   "metadata": {},
   "outputs": [
    {
     "name": "stdout",
     "output_type": "stream",
     "text": [
      "Train error (MSE):  0.021480888204272245 \n",
      "Test Error (MSE):  0.009597420895097143\n"
     ]
    }
   ],
   "source": [
    "opimal_k = 50\n",
    "u, s, vt = svds(X_full_tr, k = opimal_k)\n",
    "s_diag_matrix=np.diag(s)\n",
    "X_pred = np.dot(np.dot(u, s_diag_matrix), vt)\n",
    "print('Train error (MSE): ', error(X_full_tr, X_pred),'\\nTest Error (MSE): ',  error(X_te, X_pred))"
   ]
  },
  {
   "cell_type": "markdown",
   "metadata": {},
   "source": [
    "Benchmark model performed as above and we hope to do better than this with our matrix factorization implementaion."
   ]
  },
  {
   "cell_type": "markdown",
   "metadata": {},
   "source": [
    "### Matrix Factorization Implementation"
   ]
  },
  {
   "cell_type": "markdown",
   "metadata": {},
   "source": [
    "We implemented a matrix factorization based model and used alternating least squares as the optimizing algorithm.\n",
    "\n",
    "Here we factorize the rating matrix(X) as a product of two matrices(U and V) to capture the general trend in X:\n",
    "\n",
    "X = U @ $V^{T}$"
   ]
  },
  {
   "cell_type": "code",
   "execution_count": 16,
   "metadata": {},
   "outputs": [],
   "source": [
    "def train(X, X_te, k, U, V, niters=51, lam=10, verbose=False):\n",
    "    \"\"\" Train a collaborative filtering model. \n",
    "        Args: \n",
    "            X (numpy 2D array) : the training ratings matrix as specified above\n",
    "            X_te (numpy 2D array) : the testing ratings matrix as specified above\n",
    "            k (int) : the number of features use in the CF model\n",
    "            U (numpy 2D array) : an initial matrix of features for each user\n",
    "            V (numpy 2D array) : an initial matrix of features for each book\n",
    "            niters (int) : number of iterations to run\n",
    "            lam (float) : regularization parameter\n",
    "            verbose (boolean) : verbosity flag for printing useful messages\n",
    "            \n",
    "        Returns:\n",
    "            (U,V) : A pair of the resulting learned matrix factorization\n",
    "    \"\"\"\n",
    "    W = np.zeros(X.shape)\n",
    "    mask = X!=0\n",
    "    mask2 = mask.T\n",
    "    xtrans = X.T\n",
    "    \n",
    "    for i in range(niters):\n",
    "        for m in range(U.shape[0]):\n",
    "            v = V[mask[m]]\n",
    "            r = X[m][mask[m]]\n",
    "            um = np.linalg.solve(v.T @ v + lam*np.identity(v.shape[1]), v.T @ r)\n",
    "            U[m] = um\n",
    "\n",
    "        for n in range(V.shape[0]):\n",
    "            u = U[mask2[n]]\n",
    "            r2 = xtrans[n][mask2[n]]\n",
    "            vn = np.linalg.solve(u.T @ u + lam*np.identity(u.shape[1]), u.T @ r2)\n",
    "            V[n] = vn\n",
    "        if(verbose and i%5==0):\n",
    "            X_pred = (U@V.T)\n",
    "            print(i,error(X, X_pred),error(X_te, X_pred))\n",
    "    return U,V"
   ]
  },
  {
   "cell_type": "markdown",
   "metadata": {},
   "source": [
    "#### Hyper-parameter Tuning\n",
    "\n",
    "Once again, we tune the hyper-parameter(k) based on the minimum validation set error. "
   ]
  },
  {
   "cell_type": "code",
   "execution_count": null,
   "metadata": {},
   "outputs": [],
   "source": [
    "err_mf = []\n",
    "for k in range(10,300, 10):\n",
    "    U0 = np.random.random((len(user_ID),k))\n",
    "    V0 = np.random.random((len(book_ID),k))\n",
    "    U1,V1 = train(X_tr, X_te, k, U0, V0, niters=10, lam=10, verbose=False)\n",
    "    X_pred = (U1@V1.T)\n",
    "    err_mf.append({'k': k, 'Error': error(X_val, X_pred)})"
   ]
  },
  {
   "cell_type": "code",
   "execution_count": 17,
   "metadata": {},
   "outputs": [
    {
     "data": {
      "text/plain": [
       "<matplotlib.axes._subplots.AxesSubplot at 0x214cfcfc4e0>"
      ]
     },
     "execution_count": 17,
     "metadata": {},
     "output_type": "execute_result"
    },
    {
     "data": {
      "image/png": "[encoded data removed]",
      "text/plain": [
       "<matplotlib.figure.Figure at 0x214cf15d5f8>"
      ]
     },
     "metadata": {},
     "output_type": "display_data"
    }
   ],
   "source": [
    "error_mf = pd.DataFrame(err_mf)\n",
    "error_mf[].plot(x='k', y='Error', title='Validation set error (MSE)')"
   ]
  },
  {
   "cell_type": "markdown",
   "metadata": {},
   "source": [
    "As seen in the graph, the validation set error reduces at first and then starts to increase again after 300. We consider k = 300 as the optimal value based on the validation set error and we will train the final model using this value of k."
   ]
  },
  {
   "cell_type": "markdown",
   "metadata": {},
   "source": [
    "### Training our final model"
   ]
  },
  {
   "cell_type": "code",
   "execution_count": 19,
   "metadata": {},
   "outputs": [
    {
     "name": "stdout",
     "output_type": "stream",
     "text": [
      "Training error (MSE):  0.0004985704743719829 \n",
      "Test error (MSE):  0.008496272464025829\n"
     ]
    }
   ],
   "source": [
    "opimal_k = 300\n",
    "\n",
    "U0 = np.random.random((len(user_ID),opimal_k))\n",
    "V0 = np.random.random((len(book_ID),opimal_k))\n",
    "U1,V1 = train(X_full_tr, X_te, opimal_k, U0, V0, niters=100, lam=10, verbose=False)\n",
    "X_pred = (U1@V1.T)\n",
    "print('Training error (MSE): ',error(X_full_tr, X_pred), '\\nTest error (MSE): ', error(X_te, X_pred))"
   ]
  },
  {
   "cell_type": "markdown",
   "metadata": {},
   "source": [
    "### Result\n",
    "\n",
    "Based on the test set error (MSE), our model works slightly better than the benchmark model w.r.t values of k used.\n",
    "\n",
    "- Performance for benchmark:\n",
    "    - Train error (MSE):  0.021480888204272245 \n",
    "    - Test Error (MSE):  0.009597420895097143\n",
    "\n",
    "\n",
    "- Performance for our implementation:\n",
    "    - Training error (MSE):  0.0004985704743719829 \n",
    "    - Test error (MSE):  0.008496272464025829\n",
    "\n",
    "Our implementaion of matrix factorization performs around 10% better than the benchmark model.\n",
    "\n",
    "NOTE: This observation is based on the test set error when benchmark was trained with k = 50 and our implementaion was trained with k = 300. Value of k used for each model was the optimized value for that model."
   ]
  },
  {
   "cell_type": "markdown",
   "metadata": {},
   "source": [
    "## Providing Recommendations\n",
    "\n",
    "Let's generate recommendations for all the users in the database. Using the trained model, we can predict the rating that a user will give to each book in the database. Based on these predicted ratings, we can recommend a book that we predict that the user will rate highly."
   ]
  },
  {
   "cell_type": "code",
   "execution_count": 20,
   "metadata": {},
   "outputs": [
    {
     "name": "stdout",
     "output_type": "stream",
     "text": [
      "ISBN-10 of the books recommeded for first 5 users:  ['544337999', '765368544', '143119680', '544337999', '8259844']\n"
     ]
    }
   ],
   "source": [
    "def recommend(X, U, V, bIds):\n",
    "    \"\"\" Recommend a new book for every user.\n",
    "        Args: \n",
    "            X (numpy 2D array) : the training ratings matrix as specified above\n",
    "            U (numpy 2D array) : a learned matrix of features for each user\n",
    "            V (numpy 2D array) : a learned matrix of features for each book\n",
    "            bIds : a list of book ids corresponding to the columns of the ratings matrix\n",
    "        Returns\n",
    "            (list) : a list of book ids recommended for each user\n",
    "    \"\"\"\n",
    "    mask = X!=0\n",
    "    X_hat = (U@V.T)\n",
    "    X_hat[mask] = -1\n",
    "    rec_list = np.argmax(X_hat,axis=1)\n",
    "    mov = [bIds[i] for i in rec_list]\n",
    "    return mov\n",
    "        \n",
    "recommendations = recommend(X_tr, U1, V1, bIds)\n",
    "print('ISBN-10 of the books recommeded for first 5 users: ',recommendations[:5])"
   ]
  },
  {
   "cell_type": "markdown",
   "metadata": {},
   "source": [
    "### Presenting Recommendations\n",
    "\n",
    "Book ids are not an ideal way to recommend a book (at least not to a human), we need to present the recommendation with more relevant information in order to have the user interested in reading the book."
   ]
  },
  {
   "cell_type": "code",
   "execution_count": 22,
   "metadata": {},
   "outputs": [],
   "source": [
    "import urllib\n",
    "\n",
    "def present_recommendation(recommended_id, book_data):\n",
    "    book_info = book_data.loc[recommended_id]\n",
    "    image_url = book_info['image_url']\n",
    "    \n",
    "    f = urllib.request.urlopen(image_url)\n",
    "    print('Book Name:', book_info['name'])\n",
    "    print('By-', book_info['author'])\n",
    "    a = plt.imread(f, 0)\n",
    "    plt.imshow(a)\n",
    "    plt.grid(False)\n",
    "    plt.axis('off')\n",
    "\n",
    "    plt.show()"
   ]
  },
  {
   "cell_type": "markdown",
   "metadata": {},
   "source": [
    "#### An example of a recommendation"
   ]
  },
  {
   "cell_type": "code",
   "execution_count": 23,
   "metadata": {},
   "outputs": [
    {
     "name": "stdout",
     "output_type": "stream",
     "text": [
      "Book Name: Unfinished Tales of Númenor and Middle-earth\n",
      "By- J.R.R. Tolkien\n"
     ]
    },
    {
     "data": {
      "image/png": "[encoded data removed]",
      "text/plain": [
       "<matplotlib.figure.Figure at 0x214c2319860>"
      ]
     },
     "metadata": {},
     "output_type": "display_data"
    }
   ],
   "source": [
    "present_recommendation(recommendations[3], books.set_index(['ISBN.10']))"
   ]
  },
  {
   "cell_type": "markdown",
   "metadata": {},
   "source": [
    "### Aside : Item - Item based approach\n",
    "\n",
    "Experimenting with the item-item based approach as discussed in class, we were surprised to find that it provided a much better prediction of book-user ratings in our case.\n",
    "\n",
    "At one point of time, Amazon used an item-item based approach but the recommendations are generic and not personalized to a user. It seemed to work well our case because of the limited data we had. We believe that the matrx factorization will work better if we have different types of books and information of users who don't only read bestselling books. This bias towards recommending highly rated book to everyone is reduced by using matrix factorization.\n",
    "\n",
    "Here is our implementation of item-item based collaborative filtering."
   ]
  },
  {
   "cell_type": "code",
   "execution_count": 32,
   "metadata": {},
   "outputs": [
    {
     "data": {
      "text/plain": [
       "(181240, 236)"
      ]
     },
     "execution_count": 32,
     "metadata": {},
     "output_type": "execute_result"
    }
   ],
   "source": [
    "X = X_full_tr.T\n",
    "book_means = np.array([X[i,X[i,:]!=0].mean() for i in range(X.shape[0])])\n",
    "        \n",
    "def all_pearson(X, book_means, min_common_items=2):\n",
    "    X_norm = (X - book_means[:,None])*(X != 0)\n",
    "    X_col_norm = (X_norm**2) @ (X_norm != 0).T\n",
    "    common_items = (X!=0).astype(float) @ (X!=0).T\n",
    "    return (X_norm @ X_norm.T)/(np.sqrt(X_col_norm*X_col_norm.T)+1e-12) * (common_items >= min_common_items)\n",
    "W_pearson = all_pearson(X, book_means)    \n",
    "\n",
    "def nearest_neighbors(W, K):\n",
    "    W_neighbors = W.copy()\n",
    "    W_neighbors[W < np.percentile(np.abs(W), 100-100*K/X.shape[0], axis=0)] = 0\n",
    "    return W_neighbors\n",
    "W_pearson_100 = nearest_neighbors(W_pearson, 100)\n",
    "\n",
    "def predict_user_user(X, W, book_means, i):\n",
    "    \"\"\" Return prediction of X_(ij). \"\"\"\n",
    "    return book_means[i] + (np.sum((X - book_means[:,None]) * (X != 0) * W[i,:,None], axis=0) / \n",
    "                            (np.sum((X != 0) * np.abs(W[i,:,None]), axis=0) + 1e-12))\n",
    "rows = [predict_user_user(X, W_pearson, book_means, i) for i in range(X.shape[0])]\n",
    "\n",
    "final = np.stack(rows, axis =1)\n",
    "final.shape"
   ]
  },
  {
   "cell_type": "code",
   "execution_count": 34,
   "metadata": {},
   "outputs": [
    {
     "name": "stdout",
     "output_type": "stream",
     "text": [
      "Error on test set (MSE):  0.0005188175269483318\n"
     ]
    }
   ],
   "source": [
    "print('Error on test set (MSE): ', error(X_te, final))"
   ]
  },
  {
   "cell_type": "markdown",
   "metadata": {},
   "source": [
    "## Next Steps\n",
    "\n",
    "1. To improve the recommender model, we suggest the inclusion of genre and synopsis of the book. Topic modelling can be used to cluster these books into different sets. Along with these clusters, genre, author(s) can be used to predict what books would a user like.\n",
    "\n",
    "2. Inclusion of user data like age, gender, location etc, will allow more specific recommendations as similar users can be more accurately matched.\n",
    "\n",
    "3. Adding more books to the dataset would ensure that low ratings for books are also included. This will help recommend better books."
   ]
  },
  {
   "cell_type": "markdown",
   "metadata": {},
   "source": [
    "## Scripts and Data"
   ]
  },
  {
   "cell_type": "markdown",
   "metadata": {},
   "source": [
    "- Scraping script : https://github.com/arpitchaudhary/book_recommendation/tree/master/Scraping%20scripts\n",
    "- Dataset: https://github.com/arpitchaudhary/book_recommendation/tree/master/dataset"
   ]
  },
  {
   "cell_type": "markdown",
   "metadata": {},
   "source": [
    "### References for Further Investigation\n",
    "\n",
    "- https://pm429015.wordpress.com/2013/05/21/singular-value-decomposition-svd/\n",
    "- https://blog.insightdatascience.com/explicit-matrix-factorization-als-sgd-and-all-that-jazz-b00e4d9b21ea\n",
    "- https://www.cs.cmu.edu/~venkatg/teaching/CStheory-infoage/book-chapter-4.pdf\n",
    "- https://machinelearningmastery.com/singular-value-decomposition-for-machine-learning/\n",
    "- http://www.datasciencecourse.org/notes/recommender/\n",
    "- https://hackernoon.com/introduction-to-recommender-system-part-1-collaborative-filtering-singular-value-decomposition-44c9659c5e75\n",
    "- http://acsweb.ucsd.edu/~dklim/mf_presentation.pdf\n",
    "- Assignment 4, Practical Data Science (Spring 2018) 15-688"
   ]
  }
 ],
 "metadata": {
  "kernelspec": {
   "display_name": "Python 3",
   "language": "python",
   "name": "python3"
  },
  "language_info": {
   "codemirror_mode": {
    "name": "ipython",
    "version": 3
   },
   "file_extension": ".py",
   "mimetype": "text/x-python",
   "name": "python",
   "nbconvert_exporter": "python",
   "pygments_lexer": "ipython3",
   "version": "3.6.4"
  }
 },
 "nbformat": 4,
 "nbformat_minor": 2
}
